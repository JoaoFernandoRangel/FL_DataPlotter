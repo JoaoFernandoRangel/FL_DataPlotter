{
 "cells": [
  {
   "cell_type": "code",
   "execution_count": null,
   "id": "d9990c04",
   "metadata": {},
   "outputs": [],
   "source": [
    "import pandas as pd\n",
    "\n",
    "FILE2 = './dados-fds/file2.csv'\n",
    "FILE3 = './dados-fds/file3.csv'\n",
    "\n",
    "\n",
    "\n",
    "\n",
    "\n"
   ]
  }
 ],
 "metadata": {
  "language_info": {
   "name": "python"
  }
 },
 "nbformat": 4,
 "nbformat_minor": 5
}
