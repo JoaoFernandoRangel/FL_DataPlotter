{
 "cells": [
  {
   "cell_type": "code",
   "execution_count": 4,
   "id": "d9990c04",
   "metadata": {},
   "outputs": [],
   "source": [
    "import pandas as pd\n",
    "\n",
    "FILE2 = './dados-fds/file2.csv'\n",
    "FILE3 = './dados-fds/file3.csv'\n",
    "\n",
    "\n",
    "df2 = pd.read_csv(FILE3, sep=';', decimal = \",\", encoding='latin1')\n",
    "# print(df2.head())\n",
    "# Remove as linhas onde a coluna 'DATE' contém '10/05'\n",
    "df2 = df2[~df2['DATE'].str.contains('13/05')]\n",
    "df2 = df2.reset_index(drop=True)\n",
    "# print(df2.head())\n",
    "df2.to_csv(FILE3, sep=';', decimal=\",\", index=False, encoding='latin1')\n",
    "\n",
    "\n",
    "\n",
    "\n"
   ]
  }
 ],
 "metadata": {
  "kernelspec": {
   "display_name": "Python 3",
   "language": "python",
   "name": "python3"
  },
  "language_info": {
   "codemirror_mode": {
    "name": "ipython",
    "version": 3
   },
   "file_extension": ".py",
   "mimetype": "text/x-python",
   "name": "python",
   "nbconvert_exporter": "python",
   "pygments_lexer": "ipython3",
   "version": "3.12.3"
  }
 },
 "nbformat": 4,
 "nbformat_minor": 5
}
