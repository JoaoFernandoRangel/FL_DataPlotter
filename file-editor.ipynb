{
 "cells": [
  {
   "cell_type": "markdown",
   "id": "52766e84",
   "metadata": {},
   "source": [
    "# Arquivo para pré processamento dos arquivos csv\n",
    "Junta arquivos, e remove as colunas que não serão utilizadas. \n",
    "\n",
    "Aqui primeiro é feita a junção dos arquivos"
   ]
  },
  {
   "cell_type": "code",
   "execution_count": 6,
   "id": "d9990c04",
   "metadata": {},
   "outputs": [],
   "source": [
    "import pandas as pd\n",
    "\n",
    "FILE2 = \"./dados-fds/file2.csv\"\n",
    "FILE3 = \"./dados-fds/file3.csv\"\n",
    "\n",
    "\n",
    "df2: pd.DataFrame = pd.read_csv(\n",
    "    FILE2, sep=\";\", decimal=\",\", encoding=\"latin1\"\n",
    ")  # Declarando a variável assim o tipo de variável fica explícito\n",
    "df3 = pd.read_csv(FILE3, sep=\";\", decimal=\",\", encoding=\"latin1\")\n",
    "\n",
    "\n",
    "def merge_dataframes(df1, df2):\n",
    "    \"\"\"\n",
    "    Função para mesclar dois DataFrames\n",
    "    \"\"\"\n",
    "    return pd.concat([df1, df2], axis=0, ignore_index=True)\n",
    "\n",
    "\n",
    "# merge_dataframes(df2, df3).to_csv(\n",
    "#     \"./dados-fds/merged.csv\", sep=\";\", decimal=\",\", index=False, encoding=\"latin1\"\n",
    "# )"
   ]
  },
  {
   "cell_type": "code",
   "execution_count": null,
   "id": "4053f4eb",
   "metadata": {},
   "outputs": [],
   "source": [
    "df_merged = pd.read_csv(\n",
    "    \"./dados-fds/merged.csv\", sep=\";\", decimal=\",\", encoding=\"latin1\"\n",
    ")  # Lendo o arquivo mesclado"
   ]
  }
 ],
 "metadata": {
  "kernelspec": {
   "display_name": "Python 3",
   "language": "python",
   "name": "python3"
  },
  "language_info": {
   "codemirror_mode": {
    "name": "ipython",
    "version": 3
   },
   "file_extension": ".py",
   "mimetype": "text/x-python",
   "name": "python",
   "nbconvert_exporter": "python",
   "pygments_lexer": "ipython3",
   "version": "3.12.3"
  }
 },
 "nbformat": 4,
 "nbformat_minor": 5
}
