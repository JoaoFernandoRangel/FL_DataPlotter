{
 "cells": [
  {
   "cell_type": "code",
   "execution_count": 1,
   "id": "8f93bc05",
   "metadata": {},
   "outputs": [
    {
     "name": "stdout",
     "output_type": "stream",
     "text": [
      "['timestamp', 'T_MF4_IN', 'T_MF4_OUT', 'T_MM2_IN', 'T_MM2_OUT', 'T_BOILER100', 'T_BOILER200', 'T_IN', 'Sinal_Vazao1']\n",
      "['T_BOILER100', 'T_BOILER200', 'T_IN', 'T_MF4_IN', 'T_MF4_OUT', 'T_MM2_IN', 'T_MM2_OUT', 'timestamp']\n"
     ]
    }
   ],
   "source": [
    "import pandas as pd\n",
    "\n",
    "sdcard = \"./dados-para-analise/sdcard-toplot-filtered.csv\"\n",
    "smarthub_csv = \"./dados-para-analise/smarthub-toplot.csv\"\n",
    "df_sdcard = pd.read_csv(sdcard, sep=\";\", decimal=\".\", encoding=\"latin1\")\n",
    "df_smarthub = pd.read_csv(smarthub_csv, sep=\";\", decimal=\".\", encoding=\"latin1\")\n",
    "print(df_smarthub.columns.to_list())\n",
    "print(df_sdcard.columns.to_list())"
   ]
  },
  {
   "cell_type": "markdown",
   "id": "28dee19f",
   "metadata": {},
   "source": [
    "# Análise de confiança da plataforma\n",
    "\n",
    "Teoricamene em um período de 24h são feitas 86400 leituras no equipamento de campo (1 leitura por segundo). Essas leituras são salvas em cartão de memória. No período de 24h selecionado foram feitas 79101 salvamentos na memória do equipamento. A plataforma fez o registro de 20663 telemetrias. \n"
   ]
  },
  {
   "cell_type": "code",
   "execution_count": 2,
   "id": "4972e955",
   "metadata": {},
   "outputs": [
    {
     "name": "stdout",
     "output_type": "stream",
     "text": [
      "Quantidade de dados do smarthub:  20663\n",
      "Quantidade de dados do sdcard:  79101\n",
      "Porcentagem de dados do smarthub em relação ao sdcard:  26.12 %\n"
     ]
    }
   ],
   "source": [
    "\"\"\"Diante da premissa acima, o código abaixo dita a porcentagem de leituras que foram salvas na plataforma\"\"\"\n",
    "\n",
    "n_dados_smarthub = df_smarthub[\"timestamp\"].count()\n",
    "n_dados_sdcard = df_sdcard[\"timestamp\"].count()\n",
    "print(\"Quantidade de dados do smarthub: \", n_dados_smarthub)\n",
    "print(\"Quantidade de dados do sdcard: \", n_dados_sdcard)\n",
    "porcentagem = (n_dados_smarthub / n_dados_sdcard) * 100\n",
    "print(\n",
    "    \"Porcentagem de dados do smarthub em relação ao sdcard: \",\n",
    "    porcentagem.__round__(2),\n",
    "    \"%\",\n",
    ")"
   ]
  },
  {
   "cell_type": "markdown",
   "id": "5fb704ff",
   "metadata": {},
   "source": [
    "# Análise de verossimilhança\n",
    "\n",
    "Para comparar a fidelidade dos dados que foram guardados no banco da plataforma. Iremos comparar os dados com os mesmos timestamps de ambos os sets. Abaixo serão plotados os gráficos de cada variável sendo avaliada. Além disso será impresso um erro médio."
   ]
  },
  {
   "cell_type": "code",
   "execution_count": 3,
   "id": "273a645f",
   "metadata": {},
   "outputs": [
    {
     "name": "stdout",
     "output_type": "stream",
     "text": [
      "O dataframe final tem  20663  linhas e  15  colunas.\n",
      "O dataframe final foi salvo em  ./dados-para-analise/df_final.csv\n"
     ]
    }
   ],
   "source": [
    "def buscar_indice_df(df, coluna, valor):\n",
    "    \"\"\"\n",
    "    Busca o índice de uma linha em um DataFrame com base no valor de uma coluna específica.\n",
    "\n",
    "    Args:\n",
    "        df (pandas.DataFrame): O DataFrame onde a busca será realizada.\n",
    "        coluna (str): O nome da coluna onde o valor será procurado.\n",
    "        valor (Any): O valor a ser buscado na coluna especificada.\n",
    "\n",
    "    Returns:\n",
    "        int: O índice da primeira ocorrência do valor na coluna, ou -1 se o valor não for encontrado.\n",
    "\n",
    "    Exemplo:\n",
    "        >>> import pandas as pd\n",
    "        >>> data = {'coluna1': [1, 2, 3], 'coluna2': ['a', 'b', 'c']}\n",
    "        >>> df = pd.DataFrame(data)\n",
    "        >>> buscar_indice_df(df, 'coluna1', 2)\n",
    "        1\n",
    "        >>> buscar_indice_df(df, 'coluna2', 'x')\n",
    "        -1\n",
    "    \"\"\"\n",
    "    try:\n",
    "        return df[df[coluna] == valor].index[0]\n",
    "    except IndexError:\n",
    "        return -1  # Retorna -1 se o valor não for encontrado\n",
    "\n",
    "\n",
    "# 1. Certifique-se de que as colunas de timestamp são do mesmo tipo\n",
    "df_sdcard[\"timestamp\"] = pd.to_datetime(df_sdcard[\"timestamp\"])\n",
    "df_smarthub[\"timestamp\"] = pd.to_datetime(df_smarthub[\"timestamp\"])\n",
    "\n",
    "# 2. Crie o DataFrame final com todas as colunas necessárias\n",
    "colunas = [\n",
    "    \"timeStamp\",\n",
    "    \"T_MF4_IN_sd\",\n",
    "    \"T_MF4_IN_sh\",\n",
    "    \"T_MF4_OUT_sd\",\n",
    "    \"T_MF4_OUT_sh\",\n",
    "    \"T_MM2_IN_sd\",\n",
    "    \"T_MM2_IN_sh\",\n",
    "    \"T_MM2_OUT_sd\",\n",
    "    \"T_MM2_OUT_sh\",\n",
    "    \"T_BOILER100_sd\",\n",
    "    \"T_BOILER100_sh\",\n",
    "    \"T_BOILER200_sd\",\n",
    "    \"T_BOILER200_sh\",\n",
    "    \"T_IN_sd\",\n",
    "    \"T_IN_sh\",\n",
    "]\n",
    "\n",
    "df_final = pd.DataFrame(columns=colunas)\n",
    "\n",
    "\n",
    "# 3. Função otimizada para buscar índices\n",
    "def buscar_indice_seguro(df, coluna, valor):\n",
    "    matches = df[df[coluna] == valor]\n",
    "    return matches.index[0] if not matches.empty else -1\n",
    "\n",
    "\n",
    "# 4. Processamento principal\n",
    "for i, smarthub_row in df_smarthub.iterrows():\n",
    "    timestamp = smarthub_row[\"timestamp\"]\n",
    "    index_sdcard = buscar_indice_seguro(df_sdcard, \"timestamp\", timestamp)\n",
    "\n",
    "    if index_sdcard != -1:\n",
    "        sdcard_row = df_sdcard.loc[index_sdcard]\n",
    "\n",
    "        new_row = {\n",
    "            \"timeStamp\": timestamp,\n",
    "            # Dados do SD Card (sufixo _sd)\n",
    "            \"T_MF4_IN_sd\": sdcard_row.get(\"T_MF4_IN\"),\n",
    "            \"T_MF4_OUT_sd\": sdcard_row.get(\"T_MF4_OUT\"),\n",
    "            \"T_MM2_IN_sd\": sdcard_row.get(\"T_MM2_IN\"),\n",
    "            \"T_MM2_OUT_sd\": sdcard_row.get(\"T_MM2_OUT\"),\n",
    "            \"T_BOILER100_sd\": sdcard_row.get(\"T_BOILER100\"),\n",
    "            \"T_BOILER200_sd\": sdcard_row.get(\"T_BOILER200\"),\n",
    "            \"T_IN_sd\": sdcard_row.get(\"T_IN\"),\n",
    "            # Dados do SmartHub (sufixo _sh)\n",
    "            \"T_MF4_IN_sh\": smarthub_row.get(\"T_MF4_IN\"),\n",
    "            \"T_MF4_OUT_sh\": smarthub_row.get(\"T_MF4_OUT\"),\n",
    "            \"T_MM2_IN_sh\": smarthub_row.get(\"T_MM2_IN\"),\n",
    "            \"T_MM2_OUT_sh\": smarthub_row.get(\"T_MM2_OUT\"),\n",
    "            \"T_BOILER100_sh\": smarthub_row.get(\"T_BOILER100\"),\n",
    "            \"T_BOILER200_sh\": smarthub_row.get(\"T_BOILER200\"),\n",
    "            \"T_IN_sh\": smarthub_row.get(\"T_IN\")\n",
    "        }\n",
    "\n",
    "        df_final.loc[len(df_final)] = new_row\n",
    "\n",
    "# 5. Opcional: Resetar o índice se necessário\n",
    "df_final.reset_index(drop=True, inplace=True)\n",
    "# print(df_final.head())\n",
    "dir_salvo = \"./dados-para-analise/df_final.csv\"\n",
    "df_final.to_csv(dir_salvo, sep=\";\", decimal=\".\", index=False, encoding=\"latin1\")\n",
    "print(\"O dataframe final tem \", len(df_final), \" linhas e \", len(df_final.columns), \" colunas.\")\n",
    "print(\"O dataframe final foi salvo em \", dir_salvo)"
   ]
  },
  {
   "cell_type": "code",
   "execution_count": 15,
   "id": "b95ef6b0",
   "metadata": {},
   "outputs": [
    {
     "name": "stdout",
     "output_type": "stream",
     "text": [
      "Erro médio entre colunas T_MF4_IN:  3.7542\n",
      "Erro médio entre colunas T_MF4_OUT:  2.4812\n",
      "Erro médio entre colunas T_MM2_IN:  1.6806\n",
      "Erro médio entre colunas T_MM2_OUT:  1.651\n",
      "Erro médio entre colunas T_BOILER100:  0.0066\n",
      "Erro médio entre colunas T_BOILER200:  0.0065\n",
      "Erro médio entre colunas T_IN:  0.0\n"
     ]
    }
   ],
   "source": [
    "def erro_medio(df, coluna1, coluna2):\n",
    "    \"\"\"\n",
    "    Calcula o erro médio entre duas colunas de um DataFrame.\n",
    "\n",
    "    Args:\n",
    "        df (pandas.DataFrame): O DataFrame contendo as colunas.\n",
    "        coluna1 (str): Nome da primeira coluna.\n",
    "        coluna2 (str): Nome da segunda coluna.\n",
    "\n",
    "    Returns:\n",
    "        float: O erro médio entre as duas colunas.\n",
    "    \"\"\"\n",
    "    return (df[coluna1] - df[coluna2]).abs().mean()\n",
    "\n",
    "def printa_erros_medios():\n",
    "    print(\n",
    "        \"Erro médio entre colunas T_MF4_IN: \",\n",
    "        erro_medio(df_final, \"T_MF4_IN_sd\", \"T_MF4_IN_sh\").__round__(4),\n",
    "    )\n",
    "    print(\n",
    "        \"Erro médio entre colunas T_MF4_OUT: \",\n",
    "        erro_medio(df_final, \"T_MF4_OUT_sd\", \"T_MF4_OUT_sh\").__round__(4),\n",
    "    )\n",
    "    print(\n",
    "        \"Erro médio entre colunas T_MM2_IN: \",\n",
    "        erro_medio(df_final, \"T_MM2_IN_sd\", \"T_MM2_IN_sh\").__round__(4),\n",
    "    )\n",
    "    print(\n",
    "        \"Erro médio entre colunas T_MM2_OUT: \",\n",
    "        erro_medio(df_final, \"T_MM2_OUT_sd\", \"T_MM2_OUT_sh\").__round__(4),\n",
    "    )\n",
    "    print(\n",
    "        \"Erro médio entre colunas T_BOILER100: \",\n",
    "        erro_medio(df_final, \"T_BOILER100_sd\", \"T_BOILER100_sh\").__round__(4),\n",
    "    )\n",
    "    print(\n",
    "        \"Erro médio entre colunas T_BOILER200: \",\n",
    "        erro_medio(df_final, \"T_BOILER200_sd\", \"T_BOILER200_sh\").__round__(4),\n",
    "    )\n",
    "    print(\n",
    "        \"Erro médio entre colunas T_IN: \",\n",
    "        erro_medio(df_final, \"T_IN_sd\", \"T_IN_sh\").__round__(4),\n",
    "    )\n",
    "\n",
    "\n",
    "printa_erros_medios()"
   ]
  }
 ],
 "metadata": {
  "kernelspec": {
   "display_name": "Python 3",
   "language": "python",
   "name": "python3"
  },
  "language_info": {
   "codemirror_mode": {
    "name": "ipython",
    "version": 3
   },
   "file_extension": ".py",
   "mimetype": "text/x-python",
   "name": "python",
   "nbconvert_exporter": "python",
   "pygments_lexer": "ipython3",
   "version": "3.12.3"
  }
 },
 "nbformat": 4,
 "nbformat_minor": 5
}
